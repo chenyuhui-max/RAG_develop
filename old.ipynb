{
 "cells": [
  {
   "metadata": {},
   "cell_type": "markdown",
   "source": "## 使用通义千问(Qwen)作为LLM的RAG实现",
   "id": "f5da66b4d1822cff"
  },
  {
   "metadata": {},
   "cell_type": "code",
   "outputs": [],
   "execution_count": null,
   "source": [
    "import os\n",
    "os.environ[\"HF_ENDPOINT\"] = \"https://hf-mirror.com\"\n",
    "\n",
    "from langchain_huggingface import HuggingFaceEmbeddings\n",
    "from langchain_text_splitters import RecursiveCharacterTextSplitter\n",
    "from langchain_community.vectorstores import FAISS\n",
    "from langchain_community.document_loaders import PyPDFLoader\n",
    "from langchain_core.prompts import ChatPromptTemplate\n",
    "from langchain_core.runnables import RunnablePassthrough\n",
    "from langchain_core.output_parsers import StrOutputParser\n",
    "from langchain_community.llms import Tongyi"
   ],
   "id": "8eba3c8628ef6c36"
  },
  {
   "metadata": {
    "ExecuteTime": {
     "end_time": "2025-04-01T07:27:18.296540Z",
     "start_time": "2025-04-01T07:27:18.279701Z"
    }
   },
   "cell_type": "code",
   "source": [
    "# 1. 加载pdf文档\n",
    "def load_documents(pdf_paths):\n",
    "    documents = []\n",
    "    for path in pdf_paths:\n",
    "        try:\n",
    "            loader = PyPDFLoader(path)\n",
    "            documents.extend(loader.load())\n",
    "            print(f\"成功加载：{path}\")\n",
    "        except Exception as e:\n",
    "            print(f\"加载{path}失败：{str(e)}\")\n",
    "    return documents"
   ],
   "id": "9c65155c6c9b0b60",
   "outputs": [],
   "execution_count": 2
  },
  {
   "metadata": {
    "ExecuteTime": {
     "end_time": "2025-04-01T07:29:36.031111Z",
     "start_time": "2025-04-01T07:29:36.025447Z"
    }
   },
   "cell_type": "code",
   "source": [
    "# 2. 分割文本\n",
    "def split_documents(documents):\n",
    "    text_splitter = RecursiveCharacterTextSplitter(\n",
    "        chunk_size=500,\n",
    "        chunk_length=100,\n",
    "        separator=[\"\\n\\n\", \"\\n\", \"。\", \"！\", \"？\", \"：\"]\n",
    "    )\n",
    "    return text_splitter.split_documents(documents)"
   ],
   "id": "effe34321ff9b17a",
   "outputs": [],
   "execution_count": 3
  },
  {
   "metadata": {},
   "cell_type": "code",
   "outputs": [],
   "execution_count": null,
   "source": [
    "# 3. 创建向量存储\n",
    "def create_vector_store(documents, embedding_model):\n",
    "    return FAISS.from_documents(documents, embedding_model)"
   ],
   "id": "65174cea4701f1f9"
  }
 ],
 "metadata": {
  "kernelspec": {
   "display_name": "Python 3",
   "language": "python",
   "name": "python3"
  },
  "language_info": {
   "codemirror_mode": {
    "name": "ipython",
    "version": 2
   },
   "file_extension": ".py",
   "mimetype": "text/x-python",
   "name": "python",
   "nbconvert_exporter": "python",
   "pygments_lexer": "ipython2",
   "version": "2.7.6"
  }
 },
 "nbformat": 4,
 "nbformat_minor": 5
}
